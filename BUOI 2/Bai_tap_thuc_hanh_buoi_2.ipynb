{
  "nbformat": 4,
  "nbformat_minor": 0,
  "metadata": {
    "colab": {
      "provenance": [],
      "authorship_tag": "ABX9TyOFDmKTbsr84mNVHrE41tot",
      "include_colab_link": true
    },
    "kernelspec": {
      "name": "python3",
      "display_name": "Python 3"
    },
    "language_info": {
      "name": "python"
    }
  },
  "cells": [
    {
      "cell_type": "markdown",
      "metadata": {
        "id": "view-in-github",
        "colab_type": "text"
      },
      "source": [
        "<a href=\"https://colab.research.google.com/github/Hoanguyenphuong31231025892/Bai_Tap_Ca_Nhan/blob/main/Bai_tap_thuc_hanh_buoi_2.ipynb\" target=\"_parent\"><img src=\"https://colab.research.google.com/assets/colab-badge.svg\" alt=\"Open In Colab\"/></a>"
      ]
    },
    {
      "cell_type": "markdown",
      "source": [
        "**Bài 1: In chuỗi**"
      ],
      "metadata": {
        "id": "R3h93i7Ibj46"
      }
    },
    {
      "cell_type": "code",
      "execution_count": 1,
      "metadata": {
        "colab": {
          "base_uri": "https://localhost:8080/"
        },
        "id": "X_7f_afVayAT",
        "outputId": "04bb29a8-0a86-48dc-c55c-976c405da2fe"
      },
      "outputs": [
        {
          "output_type": "stream",
          "name": "stdout",
          "text": [
            "Whoever is happy will make others happy too\n",
            "--Anne Frank\n"
          ]
        }
      ],
      "source": [
        "print(\"Whoever is happy will make others happy too\");\n",
        "print(\"--Anne Frank\");"
      ]
    },
    {
      "cell_type": "markdown",
      "source": [
        "**Bài 2:  Biểu thức tính toán**"
      ],
      "metadata": {
        "id": "lTCVCj6Ibuhz"
      }
    },
    {
      "cell_type": "code",
      "source": [
        "# Nhập dữ liệu\n",
        "a = int(input(\"Moi ban nhap so a: \"))\n",
        "b = int(input(\"Moi ban nhap so b: \"))\n",
        "# Xử lý\n",
        "kqCong = a + b\n",
        "kqTru = a - b\n",
        "kqNhan = a * b\n",
        "kqChiaNguyen = a // b\n",
        "kqDu= a % b\n",
        "kqChiaThuc = a / b\n",
        "# Xuất dữ liệu\n",
        "print(\"Cac ket qua tinh toan: \")\n",
        "print(\"%-5d + %5d = %5d\"%(a, b, kqCong))\n",
        "print(\"%-5d - %5d = %5d\"%(a, b, kqTru))\n",
        "print(\"%-5d * %5d = %5d\"%(a, b, kqNhan))\n",
        "print(\"%-5d / %5d = %5d\"%(a, b, kqChiaNguyen))\n",
        "print(\"%-5d / %5d = %5d\"%(a, b, kqDu))\n",
        "print(\"%-5d / %5d = %5.2f\"%(a, b, kqChiaThuc))"
      ],
      "metadata": {
        "colab": {
          "base_uri": "https://localhost:8080/"
        },
        "id": "a0ACZ5H4bqKy",
        "outputId": "4a216df4-a41f-4629-9a24-d81048e80a82"
      },
      "execution_count": 2,
      "outputs": [
        {
          "output_type": "stream",
          "name": "stdout",
          "text": [
            "Moi ban nhap so a: 10\n",
            "Moi ban nhap so b: 5\n",
            "Cac ket qua tinh toan: \n",
            "10    +     5 =    15\n",
            "10    -     5 =     5\n",
            "10    *     5 =    50\n",
            "10    /     5 =     2\n",
            "10    /     5 =     0\n",
            "10    /     5 =  2.00\n"
          ]
        }
      ]
    },
    {
      "cell_type": "markdown",
      "source": [
        "**Bài 3: Biểu thức so sánh **"
      ],
      "metadata": {
        "id": "gDp7BAL3b5Qw"
      }
    },
    {
      "cell_type": "code",
      "source": [
        "# Nhập dữ liệu\n",
        "a = float(input(\"Moi ban nhap so a: \"))\n",
        "b = float(input(\"Moi ban nhap so b: \"))\n",
        "# Xử lý\n",
        "laNhoHon = (a < b)\n",
        "laNhoHonBang = (a <= b)\n",
        "laLonHon = (a > b)\n",
        "laLonHonBang = (a >= b)\n",
        "laBang = (a == b)\n",
        "laKhacNhau = (a != b)\n",
        "# Xuất dữ liệu\n",
        "print(\"Ket qua so sanh hai so thuc %.2f va %.2f:\"%(a, b))\n",
        "print(\"%-8.2f < %8.2f: %8s\"%(a, b, laNhoHon))\n",
        "print(\"%-8.2f <= %8.2f: %8s\"%(a, b, laNhoHonBang))\n",
        "print(\"%-8.2f > %8.2f: %8s\"%(a, b, laLonHon))\n",
        "print(\"%-8.2f >= %8.2f: %8s\"%(a, b, laLonHonBang))\n",
        "print(\"%-8.2f == %8.2f: %8s\"%(a, b, laBang))\n",
        "print(\"%-8.2f != %8.2f: %8s\"%(a, b, laKhacNhau))\n"
      ],
      "metadata": {
        "colab": {
          "base_uri": "https://localhost:8080/"
        },
        "id": "V8Ev83oJb1RP",
        "outputId": "922e4c42-5e4f-4aeb-df08-873f55b12e82"
      },
      "execution_count": 3,
      "outputs": [
        {
          "output_type": "stream",
          "name": "stdout",
          "text": [
            "Moi ban nhap so a: 60\n",
            "Moi ban nhap so b: 30\n",
            "Ket qua so sanh hai so thuc 60.00 va 30.00:\n",
            "60.00    <    30.00:    False\n",
            "60.00    <=    30.00:    False\n",
            "60.00    >    30.00:     True\n",
            "60.00    >=    30.00:     True\n",
            "60.00    ==    30.00:    False\n",
            "60.00    !=    30.00:     True\n"
          ]
        }
      ]
    },
    {
      "cell_type": "markdown",
      "source": [
        "**Bài 4: Tính giá trị hàm số**"
      ],
      "metadata": {
        "id": "r5zb17WAcB0W"
      }
    },
    {
      "cell_type": "code",
      "source": [
        "# Nạp thư viện\n",
        "import math\n",
        "# Nhập dữ liệu\n",
        "x = float(input(\"Moi ban nhap vao gia tri cua bien so x: \"))\n",
        "# Xử lý\n",
        "fx = x + math.pow(x, 5) / (1 * 2 * 3 * 4 * 5) + \\\n",
        "math.sqrt(abs(x)) / math.pow(x, 3.0 / 2)\n",
        "# Xuất dữ liệu\n",
        "print(\"Gia tri cua ham so f(%.2f) = %.2f.\"%(x, fx))"
      ],
      "metadata": {
        "colab": {
          "base_uri": "https://localhost:8080/"
        },
        "id": "0z-fiUqRb_L0",
        "outputId": "65a57a7b-b971-46d3-acfc-e86b0e5176b9"
      },
      "execution_count": 4,
      "outputs": [
        {
          "output_type": "stream",
          "name": "stdout",
          "text": [
            "Moi ban nhap vao gia tri cua bien so x: 9\n",
            "Gia tri cua ham so f(9.00) = 501.19.\n"
          ]
        }
      ]
    },
    {
      "cell_type": "markdown",
      "source": [
        "**Bài 5. Tổng chữ số**"
      ],
      "metadata": {
        "id": "KtpTyMCocXTC"
      }
    },
    {
      "cell_type": "code",
      "source": [
        "# Nạp thư viện\n",
        "import math\n",
        "# Nhập dữ liệu\n",
        "x = float(input(\"Moi ban nhap vao gia tri cua bien so x: \"))\n",
        "# Xử lý\n",
        "fx = x + math.pow(x, 5) / (1 * 2 * 3 * 4 * 5) + \\\n",
        "math.sqrt(abs(x)) / math.pow(x, 3.0 / 2)\n",
        "# Xuất dữ liệu\n",
        "print(\"Gia tri cua ham so f(%.2f) = %.2f.\"%(x, fx))"
      ],
      "metadata": {
        "colab": {
          "base_uri": "https://localhost:8080/"
        },
        "id": "UiDsZZ08cTBw",
        "outputId": "a5cc4b8e-88b8-4e82-e6c6-5dd8c4d59501"
      },
      "execution_count": 5,
      "outputs": [
        {
          "output_type": "stream",
          "name": "stdout",
          "text": [
            "Moi ban nhap vao gia tri cua bien so x: 5\n",
            "Gia tri cua ham so f(5.00) = 31.24.\n"
          ]
        }
      ]
    },
    {
      "cell_type": "markdown",
      "source": [
        "**BÀI TẬP THỰC HÀNH**"
      ],
      "metadata": {
        "id": "FWAdePChchvA"
      }
    },
    {
      "cell_type": "markdown",
      "source": [
        "**Bài 1: In nhãn**"
      ],
      "metadata": {
        "id": "EUpqY_tGcpuq"
      }
    },
    {
      "cell_type": "code",
      "source": [
        "name = input(\"Nhap ho ten: \")\n",
        "print(\"**************************\")\n",
        "print(\"* Truong: Dai Hoc UEH    *\")\n",
        "print(\"* Khoa: CNTT             *\")\n",
        "print(f\"* Ho ten: {name:<14}*\")\n",
        "print(\"**************************\")\n"
      ],
      "metadata": {
        "colab": {
          "base_uri": "https://localhost:8080/"
        },
        "id": "bu1exlHmcnV6",
        "outputId": "89920cd0-8f28-4ed0-d3f3-7f944c339df4"
      },
      "execution_count": 8,
      "outputs": [
        {
          "output_type": "stream",
          "name": "stdout",
          "text": [
            "Nhap ho ten: Hoàng Uyên Phương\n",
            "**************************\n",
            "* Truong: Dai Hoc UEH    *\n",
            "* Khoa: CNTT             *\n",
            "* Ho ten: Hoàng Uyên Phương*\n",
            "**************************\n"
          ]
        }
      ]
    },
    {
      "cell_type": "markdown",
      "source": [
        "**Bài 2. Tính diện tích và chu hình tròn**"
      ],
      "metadata": {
        "id": "k1-tPBKic_Dx"
      }
    },
    {
      "cell_type": "code",
      "source": [
        "# Nhập bán kính từ bàn phím\n",
        "R = float(input(\"Nhap ban kinh R: \"))\n",
        "\n",
        "# Tính toán\n",
        "S = 3.14 * R * R\n",
        "P = 2 * 3.14 * R\n",
        "\n",
        "# In kết quả với 1 số lẻ thập phân\n",
        "print(f\"Dien tich S = {S:.1f}\")\n",
        "print(f\"Chu vi P = {P:.1f}\")\n"
      ],
      "metadata": {
        "colab": {
          "base_uri": "https://localhost:8080/"
        },
        "id": "-rcegbeac487",
        "outputId": "9780c86f-a1d4-49ce-aa72-b824be666e37"
      },
      "execution_count": 9,
      "outputs": [
        {
          "output_type": "stream",
          "name": "stdout",
          "text": [
            "Nhap ban kinh R: 3\n",
            "Dien tich S = 28.3\n",
            "Chu vi P = 18.8\n"
          ]
        }
      ]
    },
    {
      "cell_type": "markdown",
      "source": [
        "**Bài 3. Đổi sang giây **"
      ],
      "metadata": {
        "id": "iPcaG31adKcv"
      }
    },
    {
      "cell_type": "code",
      "source": [
        "# Nhập dữ liệu\n",
        "h = int(input(\"Nhap so gio: \"))\n",
        "m = int(input(\"Nhap so phut: \"))\n",
        "s = int(input(\"Nhap so giay: \"))\n",
        "\n",
        "# Tính tổng số giây\n",
        "tong = h * 3600 + m * 60 + s\n",
        "\n",
        "# In kết quả\n",
        "print(f\"Tong so giay cua {h}:{m}:{s} la {tong} giay\")\n"
      ],
      "metadata": {
        "colab": {
          "base_uri": "https://localhost:8080/"
        },
        "id": "3X3po6j7dHyS",
        "outputId": "58abb706-8faa-4e5d-b011-2e2a66679d94"
      },
      "execution_count": 10,
      "outputs": [
        {
          "output_type": "stream",
          "name": "stdout",
          "text": [
            "Nhap so gio: 3\n",
            "Nhap so phut: 5\n",
            "Nhap so giay: 6\n",
            "Tong so giay cua 3:5:6 la 11106 giay\n"
          ]
        }
      ]
    },
    {
      "cell_type": "markdown",
      "source": [
        "**Bài 4. Đổi sang giờ phút giây **"
      ],
      "metadata": {
        "id": "J0xWJttMdcHd"
      }
    },
    {
      "cell_type": "code",
      "source": [
        "# Nhập tổng số giây\n",
        "t = int(input(\"Nhap vao tong so giay: \"))\n",
        "\n",
        "# Đổi ra giờ, phút, giây\n",
        "h = t // 3600\n",
        "m = (t % 3600) // 60\n",
        "s = t % 60\n",
        "\n",
        "# In kết quả\n",
        "print(f\"{t} giay co dang {h}:{m}:{s}\")\n"
      ],
      "metadata": {
        "colab": {
          "base_uri": "https://localhost:8080/"
        },
        "id": "W8vryd6RdXSK",
        "outputId": "08637998-0383-4253-bb53-26ca7617d99c"
      },
      "execution_count": 12,
      "outputs": [
        {
          "output_type": "stream",
          "name": "stdout",
          "text": [
            "Nhap vao tong so giay: 96660\n",
            "96660 giay co dang 26:51:0\n"
          ]
        }
      ]
    },
    {
      "cell_type": "markdown",
      "source": [
        "**Bài 5. Tính diện tích tam giác**"
      ],
      "metadata": {
        "id": "3GO12CDmdolE"
      }
    },
    {
      "cell_type": "code",
      "source": [
        "import math\n",
        "\n",
        "# Nhập 3 cạnh tam giác\n",
        "a = float(input(\"Nhap do dai canh a: \"))\n",
        "b = float(input(\"Nhap do dai canh b: \"))\n",
        "c = float(input(\"Nhap do dai canh c: \"))\n",
        "\n",
        "# Nửa chu vi\n",
        "p = (a + b + c) / 2\n",
        "\n",
        "# Tính diện tích theo công thức Heron\n",
        "S = math.sqrt(p * (p - a) * (p - b) * (p - c))\n",
        "\n",
        "# In kết quả với 2 chữ số thập phân\n",
        "print(f\"Dien tich tam giac S = {S:.2f}\")\n"
      ],
      "metadata": {
        "colab": {
          "base_uri": "https://localhost:8080/"
        },
        "id": "vRkPUSkbdh34",
        "outputId": "cf91fa7a-4ae0-4077-995b-e357797f7f3f"
      },
      "execution_count": 14,
      "outputs": [
        {
          "output_type": "stream",
          "name": "stdout",
          "text": [
            "Nhap do dai canh a: 6\n",
            "Nhap do dai canh b: 6\n",
            "Nhap do dai canh c: 7\n",
            "Dien tich tam giac S = 17.06\n"
          ]
        }
      ]
    },
    {
      "cell_type": "markdown",
      "source": [
        "**Bài 6. Hàm Mũ**"
      ],
      "metadata": {
        "id": "xgURa6XNd_UV"
      }
    },
    {
      "cell_type": "code",
      "source": [
        "# Nhập số thực a và số nguyên n\n",
        "a = float(input(\"Nhap so thuc a: \"))\n",
        "n = int(input(\"Nhap so mu n: \"))\n",
        "\n",
        "# Tính lũy thừa\n",
        "kq = a ** n\n",
        "\n",
        "# In kết quả\n",
        "print(f\"Ket qua {a}^{n} = {kq}\")\n"
      ],
      "metadata": {
        "colab": {
          "base_uri": "https://localhost:8080/"
        },
        "id": "CxtOpOEjd0Jv",
        "outputId": "cabca42a-9162-417f-f515-0128354c5259"
      },
      "execution_count": 15,
      "outputs": [
        {
          "output_type": "stream",
          "name": "stdout",
          "text": [
            "Nhap so thuc a: 5\n",
            "Nhap so mu n: 6\n",
            "Ket qua 5.0^6 = 15625.0\n"
          ]
        }
      ]
    },
    {
      "cell_type": "markdown",
      "source": [
        "**Bài 7. Đảo số**"
      ],
      "metadata": {
        "id": "611nNNWEeID5"
      }
    },
    {
      "cell_type": "code",
      "source": [
        "# Nhập số nguyên x có 4 chữ số\n",
        "x = int(input(\"Nhap so nguyen x (4 chu so): \"))\n",
        "\n",
        "# Đảo ngược bằng chuỗi\n",
        "y = int(str(x)[::-1])\n",
        "\n",
        "print(f\"So dao cua {x} la {y}\")\n"
      ],
      "metadata": {
        "colab": {
          "base_uri": "https://localhost:8080/"
        },
        "id": "SEHPqHuOeGd_",
        "outputId": "56cfde4b-10e2-4942-ea54-7329841c7213"
      },
      "execution_count": 16,
      "outputs": [
        {
          "output_type": "stream",
          "name": "stdout",
          "text": [
            "Nhap so nguyen x (4 chu so): 4456\n",
            "So dao cua 4456 la 6544\n"
          ]
        }
      ]
    },
    {
      "cell_type": "markdown",
      "source": [
        "**Bài 8. Độ sang Radian**"
      ],
      "metadata": {
        "id": "7z9juBWzeXki"
      }
    },
    {
      "cell_type": "code",
      "source": [
        "import math\n",
        "\n",
        "# Nhập góc độ\n",
        "degree = float(input(\"Nhap goc (do): \"))\n",
        "\n",
        "# Đổi sang radian\n",
        "radian = degree * math.pi / 180\n",
        "\n",
        "# In kết quả\n",
        "print(f\"{degree} do = {radian:.4f} radian\")\n"
      ],
      "metadata": {
        "colab": {
          "base_uri": "https://localhost:8080/"
        },
        "id": "nj4-tgkJeVMg",
        "outputId": "5949ab41-b0cf-4244-f90b-cec7d04b5d42"
      },
      "execution_count": 17,
      "outputs": [
        {
          "output_type": "stream",
          "name": "stdout",
          "text": [
            "Nhap goc (do): 67\n",
            "67.0 do = 1.1694 radian\n"
          ]
        }
      ]
    },
    {
      "cell_type": "markdown",
      "source": [
        "**Bài 9. Hàm số 1 **"
      ],
      "metadata": {
        "id": "4KmuS96qelcn"
      }
    },
    {
      "cell_type": "code",
      "source": [
        "import math\n",
        "\n",
        "x = float(input(\"Nhap x: \"))\n",
        "\n",
        "# y1 = 4(x^2 + 10x√x + 3x + 1)  (yêu cầu x >= 0 để √x hợp lệ)\n",
        "if x < 0:\n",
        "    print(\"y1 khong xac dinh vi co sqrt(x) voi x < 0\")\n",
        "    y1 = None\n",
        "else:\n",
        "    y1 = 4 * (x**2 + 10*x*math.sqrt(x) + 3*x + 1)\n",
        "    print(f\"y1 = {y1:.2f}\")\n",
        "\n",
        "# y2 = [sin(π·x^2) + √(x^2 + 1)] / [e^(2x) + cos(π/4 − x)]\n",
        "num = math.sin(math.pi * x**2) + math.sqrt(x**2 + 1)\n",
        "den = math.e**(2*x) + math.cos(math.pi/4 - x)\n",
        "\n",
        "if abs(den) < 1e-12:\n",
        "    print(\"y2 khong xac dinh (mau so ~ 0)\")\n",
        "else:\n",
        "    y2 = num / den\n",
        "    print(f\"y2 = {y2:.2f}\")\n"
      ],
      "metadata": {
        "colab": {
          "base_uri": "https://localhost:8080/"
        },
        "id": "bnM6DqD6edSd",
        "outputId": "73fc159f-ba09-42c0-ef6d-5e60c08d43f8"
      },
      "execution_count": 19,
      "outputs": [
        {
          "output_type": "stream",
          "name": "stdout",
          "text": [
            "Nhap x: 21\n",
            "y1 = 5869.36\n",
            "y2 = 0.00\n"
          ]
        }
      ]
    },
    {
      "cell_type": "markdown",
      "source": [
        "**Bài 10. Khoảng cách**"
      ],
      "metadata": {
        "id": "HhjK5LxHe9Tw"
      }
    },
    {
      "cell_type": "code",
      "source": [
        "import math\n",
        "\n",
        "x1 = float(input(\"Nhap x1: \"))\n",
        "y1 = float(input(\"Nhap y1: \"))\n",
        "x2 = float(input(\"Nhap x2: \"))\n",
        "y2 = float(input(\"Nhap y2: \"))\n",
        "\n",
        "# hai cách tương đương:\n",
        "# d = math.sqrt((x2 - x1)**2 + (y2 - y1)**2)\n",
        "d = math.hypot(x2 - x1, y2 - y1)\n",
        "\n",
        "print(f\"Khoang cach AB = {d:.2f}\")\n"
      ],
      "metadata": {
        "colab": {
          "base_uri": "https://localhost:8080/"
        },
        "id": "kli1YL6YezXN",
        "outputId": "d2a046f9-02e3-41c8-9c77-99a399aa38ac"
      },
      "execution_count": 20,
      "outputs": [
        {
          "output_type": "stream",
          "name": "stdout",
          "text": [
            "Nhap x1: 3\n",
            "Nhap y1: 4\n",
            "Nhap x2: 4\n",
            "Nhap y2: 6\n",
            "Khoang cach AB = 2.24\n"
          ]
        }
      ]
    },
    {
      "cell_type": "code",
      "source": [],
      "metadata": {
        "id": "0oabJhg6fII-"
      },
      "execution_count": null,
      "outputs": []
    }
  ]
}
