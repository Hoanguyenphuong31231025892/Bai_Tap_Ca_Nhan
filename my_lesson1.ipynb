{
 "cells": [
  {
   "cell_type": "markdown",
   "id": "937a35e7-f564-4696-8f2e-6b5da594e74a",
   "metadata": {},
   "source": [
    "# Thuc hanh tri tue nhan tao Buoi 1\n",
    "## Noi dung thuc hanh"
   ]
  },
  {
   "cell_type": "markdown",
   "id": "d3a5d359-567f-4f7f-836d-c04d654401cd",
   "metadata": {},
   "source": [
    "### In chu ra man hinh"
   ]
  },
  {
   "cell_type": "code",
   "execution_count": 4,
   "id": "e3a55724-fcf2-419e-8e70-96d1119d331f",
   "metadata": {},
   "outputs": [
    {
     "name": "stdout",
     "output_type": "stream",
     "text": [
      "Hello, Python World!\n"
     ]
    }
   ],
   "source": [
    "# lenh 1 - xuat chu ra man hinh\n",
    "print(\"Hello, Python World!\")"
   ]
  },
  {
   "cell_type": "markdown",
   "id": "e8d0e25c-498b-4070-be7f-4e1b7bed881a",
   "metadata": {},
   "source": [
    "### Chay tap tin python"
   ]
  },
  {
   "cell_type": "code",
   "execution_count": 7,
   "id": "9567af84-71f3-43f2-96f5-9d3c477cb9bf",
   "metadata": {},
   "outputs": [
    {
     "name": "stdout",
     "output_type": "stream",
     "text": [
      "Hello, Python World!\n"
     ]
    }
   ],
   "source": [
    "!python ex0_hello_world.py"
   ]
  },
  {
   "cell_type": "code",
   "execution_count": 8,
   "id": "d00b756a-84d4-49a5-acac-889e9c6492d2",
   "metadata": {
    "tags": []
   },
   "outputs": [
    {
     "name": "stdout",
     "output_type": "stream",
     "text": [
      "Hello, Python World!\n"
     ]
    }
   ],
   "source": [
    "%run ex0_hello_world.py"
   ]
  },
  {
   "cell_type": "markdown",
   "id": "f54dd6db-dd69-428e-963f-dc1ea81cb30c",
   "metadata": {},
   "source": [
    "### Tinh Toan Don Gian"
   ]
  },
  {
   "cell_type": "code",
   "execution_count": 18,
   "id": "bb54bb6d-6f4a-4261-8795-6f1b19d3cc50",
   "metadata": {},
   "outputs": [
    {
     "name": "stdout",
     "output_type": "stream",
     "text": [
      "calculator Basic\n"
     ]
    },
    {
     "name": "stdin",
     "output_type": "stream",
     "text": [
      "Moi ban nhap so a:  10\n",
      "Moi ban nhap so b:  20\n"
     ]
    },
    {
     "name": "stdout",
     "output_type": "stream",
     "text": [
      "c = 10 + 20 = 30\n"
     ]
    }
   ],
   "source": [
    "%run ex1_calc.py"
   ]
  },
  {
   "cell_type": "code",
   "execution_count": 19,
   "id": "1f547a42-771a-4257-a063-d444b9178a5c",
   "metadata": {},
   "outputs": [
    {
     "name": "stdout",
     "output_type": "stream",
     "text": [
      "calculator Basic\n"
     ]
    },
    {
     "name": "stdin",
     "output_type": "stream",
     "text": [
      "Moi ban nhap so a:  10\n",
      "Moi ban nhap so b:  20\n"
     ]
    },
    {
     "name": "stdout",
     "output_type": "stream",
     "text": [
      "c = 10 + 20 = 30\n"
     ]
    }
   ],
   "source": [
    "print (\"calculator Basic\")\n",
    "a = int(input (\"Moi ban nhap so a: \"))\n",
    "b = int(input (\"Moi ban nhap so b: \"))\n",
    "c = a + b\n",
    "print (\"c = %d + %d = %d\" % (a, b, c))"
   ]
  },
  {
   "cell_type": "markdown",
   "id": "ac821150-338a-46fe-9c03-c3810c6eb68c",
   "metadata": {},
   "source": [
    "# Ket thuc"
   ]
  },
  {
   "cell_type": "code",
   "execution_count": null,
   "id": "c7f219ac-4ca4-4c3a-baf1-fb47a4d9be5a",
   "metadata": {
    "jupyter": {
     "source_hidden": true
    },
    "tags": []
   },
   "outputs": [],
   "source": []
  },
  {
   "cell_type": "code",
   "execution_count": null,
   "id": "102cc687-3408-41ea-bd88-2c367b6bd7ce",
   "metadata": {
    "jupyter": {
     "source_hidden": true
    },
    "tags": []
   },
   "outputs": [],
   "source": []
  },
  {
   "cell_type": "code",
   "execution_count": null,
   "id": "d6eea29e-e06b-47d2-a940-12696996e265",
   "metadata": {
    "jupyter": {
     "source_hidden": true
    },
    "tags": []
   },
   "outputs": [],
   "source": []
  }
 ],
 "metadata": {
  "kernelspec": {
   "display_name": "Python 3 (ipykernel)",
   "language": "python",
   "name": "python3"
  },
  "language_info": {
   "codemirror_mode": {
    "name": "ipython",
    "version": 3
   },
   "file_extension": ".py",
   "mimetype": "text/x-python",
   "name": "python",
   "nbconvert_exporter": "python",
   "pygments_lexer": "ipython3",
   "version": "3.13.5"
  }
 },
 "nbformat": 4,
 "nbformat_minor": 5
}
